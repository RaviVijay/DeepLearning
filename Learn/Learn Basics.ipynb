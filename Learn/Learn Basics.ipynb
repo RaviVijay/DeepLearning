{
 "cells": [
  {
   "cell_type": "markdown",
   "metadata": {},
   "source": [
    "# Import"
   ]
  },
  {
   "cell_type": "code",
   "execution_count": 7,
   "metadata": {},
   "outputs": [],
   "source": [
    "import tensorflow as tf\n",
    "import numpy as np\n",
    "import matplotlib.patches as mpatches\n",
    "import matplotlib.pyplot as plt\n",
    "import keras\n",
    "import math\n",
    "import numpy as np\n",
    "%matplotlib inline\n",
    "plt.rcParams['figure.figsize'] = (10,6)"
   ]
  },
  {
   "cell_type": "markdown",
   "metadata": {},
   "source": [
    "# Probability"
   ]
  },
  {
   "cell_type": "markdown",
   "metadata": {},
   "source": [
    "We are not given the true underlying probability distribution associated with each random variable — not its general \"shape,\" nor the parameters that control this shape. We will never be given these things, in fact: the point of statistics is to infer what they are.\n"
   ]
  },
  {
   "cell_type": "markdown",
   "metadata": {},
   "source": [
    "As such, we'd like the most conservative distribution that obeys the \"utterly banal\" constraints stated above. This is the maximum entropy distribution.\n",
    "\n",
    "For temperature, the maximum entropy distribution is the Gaussian distribution. \n",
    "For cat or dog, it is the binomial distribution. \n",
    "For red or green or blue, it is the multinomial distribution. \n",
    "\n",
    "While it may seem like we've \"waved our hands\" over the connection between the stated equality constraints for the response variable of each model and the respective distributions we've selected, it is Lagrange multipliers that succinctly and algebraically bridge this gap. This post gives a terrific example of this derivation. I've chosen to omit it as I did not feel it would contribute to the clarity nor direction of this post.\n",
    "\n"
   ]
  },
  {
   "cell_type": "markdown",
   "metadata": {},
   "source": [
    "Exponential family distributions\n",
    "In probability and statistics, an exponential family is a set of probability distributions of a certain form, specified below. This special form is chosen for mathematical convenience, on account of some useful algebraic properties, as well as for generality, as exponential families are in a sense very natural sets of distributions to consider.\n",
    "— Wikipedia.\n",
    "\n",
    "Exponential functions provide, at a minimum, a unifying framework for deriving the canonical activation and loss functions we've come to know and love"
   ]
  },
  {
   "cell_type": "markdown",
   "metadata": {},
   "source": [
    "# Entropy"
   ]
  },
  {
   "cell_type": "markdown",
   "metadata": {},
   "source": [
    "More Entropy = More uncertainty\n",
    "We compute entropy for probability distributions. This computation is given as:\n",
    "\n",
    "H(p)=−∑(pi * log pi)\n",
    "\n",
    "where:\n",
    "There are n distinct events.\n",
    "Each event i has probability pi\n"
   ]
  },
  {
   "cell_type": "code",
   "execution_count": 14,
   "metadata": {
    "collapsed": true
   },
   "outputs": [],
   "source": [
    "p = {'rain': .14, 'snow': .37, 'sleet': .03, 'hail': .46}\n",
    "p_2 = {'rain': .01, 'snow': .37, 'sleet': .03, 'hail': .59}\n",
    "p_3 = {'rain': .01, 'snow': .01, 'sleet': .03, 'hail': .95}\n",
    "\n",
    "def entropy(prob_dist):\n",
    "    return -sum([ p*math.log(p,2) for p in prob_dist.values() ])\n"
   ]
  },
  {
   "cell_type": "code",
   "execution_count": 13,
   "metadata": {},
   "outputs": [
    {
     "data": {
      "text/plain": [
       "1.5949413805960881"
      ]
     },
     "execution_count": 13,
     "metadata": {},
     "output_type": "execute_result"
    }
   ],
   "source": [
    "entropy(p)"
   ]
  },
  {
   "cell_type": "code",
   "execution_count": 16,
   "metadata": {},
   "outputs": [
    {
     "data": {
      "text/plain": [
       "0.3549444868386896"
      ]
     },
     "execution_count": 16,
     "metadata": {},
     "output_type": "execute_result"
    }
   ],
   "source": [
    "entropy(p_3)"
   ]
  },
  {
   "cell_type": "code",
   "execution_count": null,
   "metadata": {
    "collapsed": true
   },
   "outputs": [],
   "source": []
  }
 ],
 "metadata": {
  "anaconda-cloud": {},
  "kernelspec": {
   "display_name": "Python [conda root]",
   "language": "python",
   "name": "conda-root-py"
  },
  "language_info": {
   "codemirror_mode": {
    "name": "ipython",
    "version": 2
   },
   "file_extension": ".py",
   "mimetype": "text/x-python",
   "name": "python",
   "nbconvert_exporter": "python",
   "pygments_lexer": "ipython2",
   "version": "2.7.13"
  }
 },
 "nbformat": 4,
 "nbformat_minor": 2
}
